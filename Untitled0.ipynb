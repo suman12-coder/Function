{
  "nbformat": 4,
  "nbformat_minor": 0,
  "metadata": {
    "colab": {
      "provenance": []
    },
    "kernelspec": {
      "name": "python3",
      "display_name": "Python 3"
    },
    "language_info": {
      "name": "python"
    }
  },
  "cells": [
    {
      "cell_type": "markdown",
      "source": [
        "# Function"
      ],
      "metadata": {
        "id": "e6qEFlLVTD6U"
      }
    },
    {
      "cell_type": "markdown",
      "source": [
        "1. What is the differrence between a function and a method in Pythin?\n",
        "   - a fu\n",
        "   "
      ],
      "metadata": {
        "id": "_Lkip_aETVE7"
      }
    },
    {
      "cell_type": "code",
      "execution_count": null,
      "metadata": {
        "id": "YcXCYaDkS-Ec"
      },
      "outputs": [],
      "source": []
    }
  ]
}